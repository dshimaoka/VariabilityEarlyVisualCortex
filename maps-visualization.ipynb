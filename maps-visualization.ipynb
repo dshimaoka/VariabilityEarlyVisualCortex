{
 "cells": [
  {
   "cell_type": "code",
   "execution_count": 1,
   "metadata": {},
   "outputs": [],
   "source": [
    "import numpy as np\n",
    "import pandas as pd\n",
    "import random\n",
    "from figures.polarAngle_maps import polarAngle_plot\n",
    "from functions.gradientAnalysis import PA_gradients, fieldSign\n",
    "from ipywidgets import interact, Dropdown"
   ]
  },
  {
   "attachments": {},
   "cell_type": "markdown",
   "metadata": {},
   "source": [
    "# General settings"
   ]
  },
  {
   "cell_type": "code",
   "execution_count": 2,
   "metadata": {},
   "outputs": [],
   "source": [
    "# All individuals\n",
    "with open('./list_subj.txt') as fp:\n",
    "    subjects = fp.read().split(\"\\n\")\n",
    "list_of_subs = np.array(subjects[0:len(subjects) - 1])\n",
    "\n",
    "# Cluster assignment\n",
    "cluster_assignment = np.load('./output/clusters_individualIndeces_PA.npz')['list']\n",
    "\n",
    "clusters = {}\n",
    "for i in np.unique(cluster_assignment):\n",
    "    clusters['cluster_' + str(i + 1)] = list(list_of_subs[cluster_assignment == i])"
   ]
  },
  {
   "attachments": {},
   "cell_type": "markdown",
   "metadata": {},
   "source": [
    "# Cluster assignment\n",
    "\n",
    "Here is a interactive visualization function for visual inspection of left hemisphere polar angle maps in early visual cortex."
   ]
  },
  {
   "cell_type": "code",
   "execution_count": 3,
   "metadata": {},
   "outputs": [
    {
     "data": {
      "application/vnd.jupyter.widget-view+json": {
       "model_id": "da22211924934d24bb4f07888a19a570",
       "version_major": 2,
       "version_minor": 0
      },
      "text/plain": [
       "interactive(children=(Dropdown(description='cluster', options=('cluster_1', 'cluster_2', 'cluster_3', 'cluster…"
      ]
     },
     "metadata": {},
     "output_type": "display_data"
    }
   ],
   "source": [
    "cluster_index = Dropdown(options = clusters.keys())\n",
    "subject_index= Dropdown()\n",
    "dorsal_roi = Dropdown(options = [False, True])\n",
    "binarize = Dropdown(options = [False, True])\n",
    "\n",
    "@interact(cluster = cluster_index, index = subject_index, dorsal_roi = dorsal_roi, binarize = binarize)\n",
    "def plot(cluster, index, dorsal_roi, binarize):\n",
    "    subject_index.options = clusters[cluster]\n",
    "    print('Number of participants in this cluster: ' + str(len(subject_index.options)))\n",
    "    if index == None:\n",
    "        return 'Select a cluster and a subject'\n",
    "    else:\n",
    "        return polarAngle_plot(index, './data', dorsal_only = dorsal_roi, binarize = binarize)"
   ]
  },
  {
   "attachments": {},
   "cell_type": "markdown",
   "metadata": {},
   "source": [
    "# Streamline plot of polar angle gradients\n",
    "\n",
    "Here is a interactive visualization function for visual inspection of polar angle gradients in early visual cortex. Note that these plots have different orientation from the previous one, but they are colored the same way."
   ]
  },
  {
   "cell_type": "code",
   "execution_count": 4,
   "metadata": {},
   "outputs": [
    {
     "data": {
      "application/vnd.jupyter.widget-view+json": {
       "model_id": "0deb0e5d7f2c43359bce8dbccb451ebb",
       "version_major": 2,
       "version_minor": 0
      },
      "text/plain": [
       "interactive(children=(Dropdown(description='cluster', options=('cluster_1', 'cluster_2', 'cluster_3', 'cluster…"
      ]
     },
     "metadata": {},
     "output_type": "display_data"
    }
   ],
   "source": [
    "cluster_index = Dropdown(options = clusters.keys())\n",
    "subject_index= Dropdown()\n",
    "dorsal_roi = Dropdown(options = [False, True])\n",
    "binarize = Dropdown(options = [False, True])\n",
    "plot_type = Dropdown(options = ['streamplot', 'quiver'])\n",
    "\n",
    "\n",
    "@interact(cluster = cluster_index, index = subject_index, dorsal_roi=dorsal_roi, binarize = binarize , plot_type = plot_type)\n",
    "def plot(cluster, index, dorsal_roi, plot_type, binarize):\n",
    "    subject_index.options = clusters[cluster]\n",
    "    if index == None:\n",
    "        return 'Select a cluster and a subject'\n",
    "    else:\n",
    "        return PA_gradients(index, './data', plot_type = plot_type, binarize = binarize, dorsal_only=dorsal_roi)"
   ]
  },
  {
   "attachments": {},
   "cell_type": "markdown",
   "metadata": {},
   "source": [
    "# Visual field sign analysis\n",
    "\n",
    "Here is a interactive visualization function for visual inspection of visual field sign in early visual cortex."
   ]
  },
  {
   "cell_type": "code",
   "execution_count": 5,
   "metadata": {},
   "outputs": [
    {
     "data": {
      "application/vnd.jupyter.widget-view+json": {
       "model_id": "c601ef9f8d3646abb4ec8650857cbf86",
       "version_major": 2,
       "version_minor": 0
      },
      "text/plain": [
       "interactive(children=(Dropdown(description='cluster', options=('cluster_1', 'cluster_2', 'cluster_3', 'cluster…"
      ]
     },
     "metadata": {},
     "output_type": "display_data"
    }
   ],
   "source": [
    "cluster_index = Dropdown(options = clusters.keys())\n",
    "subject_index= Dropdown()\n",
    "dorsal_roi = Dropdown(options = [False, True])\n",
    "\n",
    "\n",
    "@interact(cluster = cluster_index, index = subject_index, dorsal_roi = dorsal_roi)\n",
    "def plot(cluster, index, dorsal_roi):\n",
    "    subject_index.options = clusters[cluster]\n",
    "    if index == None:\n",
    "        return 'Select a cluster and a subject'\n",
    "    else:\n",
    "        return fieldSign(index, path='./data', dorsal_only=dorsal_roi)"
   ]
  },
  {
   "cell_type": "code",
   "execution_count": null,
   "metadata": {},
   "outputs": [],
   "source": [
    "# # Random sample for Supplementary Figure 3, 5, 6, 7, 8\n",
    "# random.seed('123')\n",
    "# random.sample(clusters['cluster_6'],9)"
   ]
  }
 ],
 "metadata": {
  "kernelspec": {
   "display_name": "VariabilityEarlyVisualCortex_updated",
   "language": "python",
   "name": "python3"
  },
  "language_info": {
   "codemirror_mode": {
    "name": "ipython",
    "version": 3
   },
   "file_extension": ".py",
   "mimetype": "text/x-python",
   "name": "python",
   "nbconvert_exporter": "python",
   "pygments_lexer": "ipython3",
   "version": "3.8.16"
  },
  "orig_nbformat": 4,
  "vscode": {
   "interpreter": {
    "hash": "296569c996860906a30dd11f428e0ced04cba75a1bf4ada307f484d6d153072d"
   }
  }
 },
 "nbformat": 4,
 "nbformat_minor": 2
}
