{
 "cells": [
  {
   "attachments": {},
   "cell_type": "markdown",
   "metadata": {},
   "source": [
    "# Other analyses\n",
    "\n",
    "This interactive notebook allows for the generation of Supplementary Table 2 (the mean deviation in gaze position along the X and Y axis across runs of retinotopic mapping stimuli presentation and individuals from each cluster) and the aggregation of demographic information and freesurfer output to a .csv for LME fitting."
   ]
  },
  {
   "attachments": {},
   "cell_type": "markdown",
   "metadata": {},
   "source": [
    "## General settings"
   ]
  },
  {
   "cell_type": "code",
   "execution_count": 1,
   "metadata": {},
   "outputs": [],
   "source": [
    "import numpy as np\n",
    "import pandas as pd\n",
    "import random\n",
    "from mne.io.eyelink import read_raw_eyelink\n",
    "from ipywidgets import interact, Dropdown"
   ]
  },
  {
   "cell_type": "code",
   "execution_count": 2,
   "metadata": {},
   "outputs": [],
   "source": [
    "# All individuals\n",
    "with open('./../list_subj.txt') as fp:\n",
    "    subjects = fp.read().split(\"\\n\")\n",
    "list_of_subs = np.array(subjects[0:len(subjects) - 1])\n",
    "\n",
    "# Cluster assignment\n",
    "cluster_assignment = np.load('./../output/clusters_individualIndeces_PA.npz')['list']\n",
    "\n",
    "clusters = {}\n",
    "for i in np.unique(cluster_assignment):\n",
    "    clusters['cluster_' + str(i + 1)] = list(list_of_subs[cluster_assignment == i])"
   ]
  },
  {
   "attachments": {},
   "cell_type": "markdown",
   "metadata": {},
   "source": [
    "## Eye-tracking: gaze position\n",
    "\n",
    "This visualization function assumes .asc files are available in *./../data/eyetracking/*. Note we provide a bash script for downloading data using AWS command line interface. To do so, you must ensure [awscli](https://docs.aws.amazon.com/cli/latest/userguide/getting-started-install.html#cliv2-linux-install) is installed. Then you can run 'aws configure' on a Terminal window and add your HCP credentials."
   ]
  },
  {
   "cell_type": "code",
   "execution_count": 61,
   "metadata": {},
   "outputs": [
    {
     "data": {
      "application/vnd.jupyter.widget-view+json": {
       "model_id": "56d00635174344ada5152994165ff5fc",
       "version_major": 2,
       "version_minor": 0
      },
      "text/plain": [
       "interactive(children=(Dropdown(description='cluster', options=('cluster_1', 'cluster_2', 'cluster_3', 'cluster…"
      ]
     },
     "metadata": {},
     "output_type": "display_data"
    }
   ],
   "source": [
    "cluster_index = Dropdown(options = clusters.keys())\n",
    "subject_index= Dropdown()\n",
    "\n",
    "@interact(cluster = cluster_index, index = subject_index)\n",
    "def plot(cluster, index):\n",
    "    subject_index.options = clusters[cluster]\n",
    "    if index == None:\n",
    "        return 'Select a cluster and a subject'\n",
    "    else:\n",
    "        raw = read_raw_eyelink('./../data/eyetracking/' + str(index) + '_7T_RETBAR1_eyetrack.asc',\n",
    "                       create_annotations=None)\n",
    "        custom_scalings = dict(eyegaze=1e3)\n",
    "        return raw.pick_types(eyetrack=True).plot(duration=400,scalings=custom_scalings)"
   ]
  },
  {
   "attachments": {},
   "cell_type": "markdown",
   "metadata": {},
   "source": [
    "The eyetrackingParticipantAveragesXY.csv file contains the average deviation from the fixation cross for each subject for both X and Y axes. The average deviation is calculated by taking the mean deviation along each direction \n",
    "over time and retinotopic mapping run. The script for generating this file is located in *./../matlab/*, and is called 'eyetrackingParticipantAveragesXY.m'. This file is also available on OSF (https://osf.io/tdkuj/)"
   ]
  },
  {
   "cell_type": "code",
   "execution_count": 4,
   "metadata": {},
   "outputs": [],
   "source": [
    "\n",
    "\n",
    "def averageDev(cluster):\n",
    "    # load csv file\n",
    "    df = pd.read_csv('./../output/eyetrackingParticipantAveragesXY.csv')\n",
    "    x_dev = []\n",
    "    y_dev = []\n",
    "    for sub in cluster:\n",
    "        for j in range(len(df['participantID'])):\n",
    "            if str(sub) == str(df['participantID'][j]):\n",
    "                x_dev.append(df['deviationX'][j])\n",
    "                y_dev.append(df['deviationY'][j])\n",
    "                pass\n",
    "            else:\n",
    "                pass\n",
    "    return np.mean(x_dev), np.std(x_dev), np.mean(y_dev), np.std(y_dev), len(x_dev)\n"
   ]
  },
  {
   "cell_type": "code",
   "execution_count": 5,
   "metadata": {
    "tags": [
     "parameters"
    ]
   },
   "outputs": [
    {
     "data": {
      "text/html": [
       "<div>\n",
       "<style scoped>\n",
       "    .dataframe tbody tr th:only-of-type {\n",
       "        vertical-align: middle;\n",
       "    }\n",
       "\n",
       "    .dataframe tbody tr th {\n",
       "        vertical-align: top;\n",
       "    }\n",
       "\n",
       "    .dataframe thead th {\n",
       "        text-align: right;\n",
       "    }\n",
       "</style>\n",
       "<table border=\"1\" class=\"dataframe\">\n",
       "  <thead>\n",
       "    <tr style=\"text-align: right;\">\n",
       "      <th></th>\n",
       "      <th>Cluster</th>\n",
       "      <th>Mean X average deviation</th>\n",
       "      <th>Std X average deviation</th>\n",
       "      <th>Mean Y average deviation</th>\n",
       "      <th>Std Y average deviation</th>\n",
       "      <th>Number of participants</th>\n",
       "    </tr>\n",
       "  </thead>\n",
       "  <tbody>\n",
       "    <tr>\n",
       "      <th>0</th>\n",
       "      <td>cluster 1</td>\n",
       "      <td>79.995649</td>\n",
       "      <td>59.260624</td>\n",
       "      <td>101.195545</td>\n",
       "      <td>92.827950</td>\n",
       "      <td>27</td>\n",
       "    </tr>\n",
       "    <tr>\n",
       "      <th>1</th>\n",
       "      <td>cluster 2</td>\n",
       "      <td>43.527691</td>\n",
       "      <td>29.526326</td>\n",
       "      <td>66.071926</td>\n",
       "      <td>79.101049</td>\n",
       "      <td>19</td>\n",
       "    </tr>\n",
       "    <tr>\n",
       "      <th>2</th>\n",
       "      <td>cluster 3</td>\n",
       "      <td>58.655426</td>\n",
       "      <td>49.396940</td>\n",
       "      <td>71.985604</td>\n",
       "      <td>73.123294</td>\n",
       "      <td>22</td>\n",
       "    </tr>\n",
       "    <tr>\n",
       "      <th>3</th>\n",
       "      <td>cluster 4</td>\n",
       "      <td>65.498358</td>\n",
       "      <td>98.806874</td>\n",
       "      <td>70.606668</td>\n",
       "      <td>93.594094</td>\n",
       "      <td>47</td>\n",
       "    </tr>\n",
       "    <tr>\n",
       "      <th>4</th>\n",
       "      <td>cluster 5</td>\n",
       "      <td>63.495065</td>\n",
       "      <td>49.506019</td>\n",
       "      <td>59.790594</td>\n",
       "      <td>78.149133</td>\n",
       "      <td>21</td>\n",
       "    </tr>\n",
       "    <tr>\n",
       "      <th>5</th>\n",
       "      <td>cluster 6</td>\n",
       "      <td>53.148597</td>\n",
       "      <td>31.888423</td>\n",
       "      <td>81.161360</td>\n",
       "      <td>92.243533</td>\n",
       "      <td>11</td>\n",
       "    </tr>\n",
       "  </tbody>\n",
       "</table>\n",
       "</div>"
      ],
      "text/plain": [
       "     Cluster  Mean X average deviation  Std X average deviation   \n",
       "0  cluster 1                 79.995649                59.260624  \\\n",
       "1  cluster 2                 43.527691                29.526326   \n",
       "2  cluster 3                 58.655426                49.396940   \n",
       "3  cluster 4                 65.498358                98.806874   \n",
       "4  cluster 5                 63.495065                49.506019   \n",
       "5  cluster 6                 53.148597                31.888423   \n",
       "\n",
       "   Mean Y average deviation  Std Y average deviation  Number of participants  \n",
       "0                101.195545                92.827950                      27  \n",
       "1                 66.071926                79.101049                      19  \n",
       "2                 71.985604                73.123294                      22  \n",
       "3                 70.606668                93.594094                      47  \n",
       "4                 59.790594                78.149133                      21  \n",
       "5                 81.161360                92.243533                      11  "
      ]
     },
     "execution_count": 5,
     "metadata": {},
     "output_type": "execute_result"
    }
   ],
   "source": [
    "data = {'Cluster':[],\n",
    "        'Mean X average deviation':[], \n",
    "        'Std X average deviation':[], \n",
    "        'Mean Y average deviation':[],\n",
    "        'Std Y average deviation':[],\n",
    "        'Number of participants':[]}\n",
    "\n",
    "for i in range(6):\n",
    "    X, std_X, Y, std_Y, sample = averageDev(clusters['cluster_' + str(i + 1) ])\n",
    "    data['Cluster'].append('cluster ' + str(i + 1))\n",
    "    data['Mean X average deviation'].append(X)\n",
    "    data['Std X average deviation'].append(std_X)\n",
    "    data['Mean Y average deviation'].append(Y)\n",
    "    data['Std Y average deviation'].append(std_Y)\n",
    "    data['Number of participants'].append(sample)\n",
    "\n",
    "df = pd.DataFrame(data)\n",
    "# df.to_excel('./output/averageDeviation.xlsx')\n",
    "df"
   ]
  },
  {
   "attachments": {},
   "cell_type": "markdown",
   "metadata": {},
   "source": [
    "## Other covariates\n",
    "\n",
    "Here we concatenate age, gender, and hemispheric grey matter volume to a .csv file for LME model fitting."
   ]
  },
  {
   "cell_type": "code",
   "execution_count": 5,
   "metadata": {},
   "outputs": [],
   "source": [
    "# Demographic data and FreeSurfer output are available on ConnectomeDB (https://db.humanconnectome.org/app/template/Login.vm) \n",
    "# under the following project: HCP 1200 Subjects Data Release > Subjects with 7T MR Session data.\n",
    "\n",
    "demographic_data = pd.read_csv('./../RESTRICTED_HCPdata.csv')\n",
    "fs_data = pd.read_csv('./../unrestricted_freesurfer_HCPdata.csv')\n",
    "unrestricted_demographic_data = pd.read_csv('./../unrestricted_demographics_HCPdata.csv')"
   ]
  },
  {
   "cell_type": "code",
   "execution_count": 21,
   "metadata": {},
   "outputs": [],
   "source": [
    "# Demographic info\n",
    "age = demographic_data['Age_in_Yrs']\n",
    "subs = demographic_data['Subject'].array\n",
    "gender = unrestricted_demographic_data['Gender']\n",
    "\n",
    "# Freesurfer data\n",
    "left_GM_vol = fs_data['FS_LCort_GM_Vol']\n",
    "right_GM_vol = fs_data['FS_RCort_GM_Vol']\n",
    "\n",
    "# To check if all subjects are in the same order\n",
    "new_list_subs = np.array(subs) \n",
    "\n",
    "# Remove subjects that are not in the HCP 7T retinotopy dataset\n",
    "list_of_subs = list_of_subs.astype(int)\n",
    "for sub in subs:\n",
    "    if sub not in list_of_subs:\n",
    "        age.drop([(subs==sub).argmax()], axis = 0, inplace = True)\n",
    "        left_GM_vol.drop([(subs==sub).argmax()], axis=0, inplace = True)\n",
    "        right_GM_vol.drop([(subs==sub).argmax()], axis=0, inplace = True)\n",
    "        gender.drop([(subs==sub).argmax()], axis=0, inplace = True)\n",
    "        new_list_subs = np.delete(new_list_subs, np.where(new_list_subs == sub))\n"
   ]
  },
  {
   "cell_type": "code",
   "execution_count": 47,
   "metadata": {},
   "outputs": [
    {
     "data": {
      "text/plain": [
       "181"
      ]
     },
     "execution_count": 47,
     "metadata": {},
     "output_type": "execute_result"
    }
   ],
   "source": [
    "# Check subject list\n",
    "retinotopic_map = 'polarAngle' # 'polarAngle', 'eccentricity'\n",
    "df_main = pd.read_csv('./../output/lme/longFormat_' + retinotopic_map + '_plusCovariates_MSMall_all.csv')\n",
    "np.sum(np.array(df_main['HCP_ID'][0:181]).astype(int)==list(new_list_subs.astype(int)))"
   ]
  },
  {
   "cell_type": "code",
   "execution_count": 52,
   "metadata": {},
   "outputs": [],
   "source": [
    "age = pd.concat([age]*12,axis=0).reset_index() # 12 = n_visual_areas * n_hemispheres * n_portions\n",
    "GM_vol = pd.concat([left_GM_vol, right_GM_vol]*6,axis=0).reset_index() # 6 = n_visual_areas * n_portions\n",
    "gender = pd.concat([gender]*12,axis=0).reset_index() # 12 = n_visual_areas * n_hemispheres * n_portions\n",
    "\n",
    "retinotopic_map = 'polarAngle' # 'polarAngle', 'eccentricity'\n",
    "df_main = pd.read_csv('./../output/lme/longFormat_' + retinotopic_map + '_plusCovariates_MSMall_all.csv').reset_index()\n",
    "\n",
    "new_df = pd.concat([df_main, age, GM_vol, gender], axis=1)\n",
    "new_df.to_csv('./../output/lme/longFormat_' + retinotopic_map + '_plusCovariates_plusAgeGenderGMvol_MSMall_all.csv')\n",
    "new_df.to_excel('./../output/lme/longFormat_' + retinotopic_map + '_plusCovariates_plusAgeGenderGMvol_MSMall_all.xlsx')"
   ]
  },
  {
   "attachments": {},
   "cell_type": "markdown",
   "metadata": {},
   "source": [
    "Final LME model fit output is available on OSF as *longFormat_polarAngle_plusCovariates_plusAgeGenderGMvol_MSMall_all.pdf\n",
    "*. Note we cannot provide sensitive information."
   ]
  }
 ],
 "metadata": {
  "kernelspec": {
   "display_name": "VariabilityEarlyVisualCortex_updated",
   "language": "python",
   "name": "python3"
  },
  "language_info": {
   "codemirror_mode": {
    "name": "ipython",
    "version": 3
   },
   "file_extension": ".py",
   "mimetype": "text/x-python",
   "name": "python",
   "nbconvert_exporter": "python",
   "pygments_lexer": "ipython3",
   "version": "3.8.16"
  },
  "orig_nbformat": 4,
  "vscode": {
   "interpreter": {
    "hash": "296569c996860906a30dd11f428e0ced04cba75a1bf4ada307f484d6d153072d"
   }
  }
 },
 "nbformat": 4,
 "nbformat_minor": 2
}
