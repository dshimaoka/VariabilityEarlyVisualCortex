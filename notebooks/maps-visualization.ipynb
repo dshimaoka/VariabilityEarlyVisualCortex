{
 "cells": [
  {
   "cell_type": "code",
   "execution_count": 4,
   "metadata": {},
   "outputs": [],
   "source": [
    "import numpy as np\n",
    "import pandas as pd\n",
    "import random\n",
    "import sys\n",
    "\n",
    "sys.path.append('../')\n",
    "\n",
    "from figures.polarAngle_maps import polarAngle_plot\n",
    "from functions.gradientAnalysis import PA_gradients, fieldSign\n",
    "from ipywidgets import interact, Dropdown"
   ]
  },
  {
   "attachments": {},
   "cell_type": "markdown",
   "metadata": {},
   "source": [
    "# General settings"
   ]
  },
  {
   "cell_type": "code",
   "execution_count": 5,
   "metadata": {},
   "outputs": [],
   "source": [
    "# All individuals\n",
    "with open('./../list_subj.txt') as fp:\n",
    "    subjects = fp.read().split(\"\\n\")\n",
    "list_of_subs = np.array(subjects[0:len(subjects) - 1])\n",
    "\n",
    "# Cluster assignment\n",
    "cluster_assignment = np.load('./../output/clusters_individualIndeces_PA.npz')['list']\n",
    "\n",
    "clusters = {}\n",
    "for i in np.unique(cluster_assignment):\n",
    "    clusters['cluster_' + str(i + 1)] = list(list_of_subs[cluster_assignment == i])"
   ]
  },
  {
   "attachments": {},
   "cell_type": "markdown",
   "metadata": {},
   "source": [
    "# Cluster assignment\n",
    "\n",
    "Here is an interactive visualization function for visually inspecting left hemisphere polar angle maps in early visual cortex. Note that for the interactive visualization to behave appropriately, i.e., updating the list of indices given the cluster choice, you should run the cell containing the plotting function should be last to be run."
   ]
  },
  {
   "cell_type": "code",
   "execution_count": 10,
   "metadata": {},
   "outputs": [
    {
     "data": {
      "application/vnd.jupyter.widget-view+json": {
       "model_id": "2bae752c3f9b485e833291cff68284f4",
       "version_major": 2,
       "version_minor": 0
      },
      "text/plain": [
       "interactive(children=(Dropdown(description='cluster', options=('cluster_1', 'cluster_2', 'cluster_3', 'cluster…"
      ]
     },
     "metadata": {},
     "output_type": "display_data"
    }
   ],
   "source": [
    "cluster_index = Dropdown(options = clusters.keys())\n",
    "subject_index= Dropdown()\n",
    "dorsal_roi = Dropdown(options = [False, True])\n",
    "binarize = Dropdown(options = [False, True])\n",
    "\n",
    "@interact(cluster = cluster_index, index = subject_index, dorsal_roi = dorsal_roi, binarize = binarize)\n",
    "def plot1(cluster, index, dorsal_roi, binarize):\n",
    "    subject_index.options = clusters[cluster]\n",
    "    print('Number of participants in this cluster: ' + str(len(subject_index.options)))\n",
    "    if index == None:\n",
    "        return 'Select a cluster and a subject'\n",
    "    else:\n",
    "        return polarAngle_plot(index, './../data', dorsal_only = dorsal_roi, binarize = binarize)"
   ]
  },
  {
   "attachments": {},
   "cell_type": "markdown",
   "metadata": {},
   "source": [
    "To generate the average maps from each cluster, you may uncomment and run the following cell."
   ]
  },
  {
   "cell_type": "code",
   "execution_count": 3,
   "metadata": {},
   "outputs": [],
   "source": [
    "# %%bash\n",
    "# cd ./../figures/\n",
    "# python mode_PA_DorsalEarlyVisualCortex_maps.py --binarize True"
   ]
  },
  {
   "attachments": {},
   "cell_type": "markdown",
   "metadata": {},
   "source": [
    "To generate the average maps shown in in Supplementary Figure 3, you may uncomment and run the following cell."
   ]
  },
  {
   "cell_type": "code",
   "execution_count": 2,
   "metadata": {},
   "outputs": [],
   "source": [
    "# %%bash\n",
    "# cd ./../functions/\n",
    "# python clustering.py"
   ]
  },
  {
   "cell_type": "code",
   "execution_count": 1,
   "metadata": {},
   "outputs": [],
   "source": [
    "# %%bash\n",
    "# cd ./../figures/\n",
    "# python mode_PA_meanMaps.py --hemisphere 'RH' --modality 'polarAngle'"
   ]
  },
  {
   "attachments": {},
   "cell_type": "markdown",
   "metadata": {},
   "source": [
    "# Streamline plot of polar angle gradients\n",
    "\n",
    "Here is an interactive visualization function for visually inspecting polar angle gradients in early visual cortex. Note that these plots have a different orientation from the previous one, but they are colored the same way."
   ]
  },
  {
   "cell_type": "code",
   "execution_count": 11,
   "metadata": {},
   "outputs": [
    {
     "data": {
      "application/vnd.jupyter.widget-view+json": {
       "model_id": "a2e395c4a1434164b3879d28c4e770a8",
       "version_major": 2,
       "version_minor": 0
      },
      "text/plain": [
       "interactive(children=(Dropdown(description='cluster', options=('cluster_1', 'cluster_2', 'cluster_3', 'cluster…"
      ]
     },
     "metadata": {},
     "output_type": "display_data"
    }
   ],
   "source": [
    "cluster_index = Dropdown(options = clusters.keys())\n",
    "subject_index= Dropdown()\n",
    "dorsal_roi = Dropdown(options = [False, True])\n",
    "binarize = Dropdown(options = [False, True])\n",
    "plot_type = Dropdown(options = ['streamplot', 'quiver'])\n",
    "\n",
    "\n",
    "@interact(cluster = cluster_index, index = subject_index, dorsal_roi=dorsal_roi, binarize = binarize , plot_type = plot_type)\n",
    "def plot2(cluster, index, dorsal_roi, plot_type, binarize):\n",
    "    subject_index.options = clusters[cluster]\n",
    "    if index == None:\n",
    "        return 'Select a cluster and a subject'\n",
    "    else:\n",
    "        return PA_gradients(index, './../data', plot_type = plot_type, binarize = binarize, dorsal_only=dorsal_roi)"
   ]
  },
  {
   "attachments": {},
   "cell_type": "markdown",
   "metadata": {},
   "source": [
    "# Visual field sign analysis\n",
    "\n",
    "Here is an interactive visualization function for visually inspecting visual field signs in early visual cortex."
   ]
  },
  {
   "cell_type": "code",
   "execution_count": 12,
   "metadata": {},
   "outputs": [
    {
     "data": {
      "application/vnd.jupyter.widget-view+json": {
       "model_id": "434073b0d4da46bd80fe9c2fffef7da4",
       "version_major": 2,
       "version_minor": 0
      },
      "text/plain": [
       "interactive(children=(Dropdown(description='cluster', options=('cluster_1', 'cluster_2', 'cluster_3', 'cluster…"
      ]
     },
     "metadata": {},
     "output_type": "display_data"
    }
   ],
   "source": [
    "cluster_index = Dropdown(options = clusters.keys())\n",
    "subject_index= Dropdown()\n",
    "dorsal_roi = Dropdown(options = [False, True])\n",
    "\n",
    "\n",
    "@interact(cluster = cluster_index, index = subject_index, dorsal_roi = dorsal_roi)\n",
    "def plot3(cluster, index, dorsal_roi):\n",
    "    subject_index.options = clusters[cluster]\n",
    "    if index == None:\n",
    "        return 'Select a cluster and a subject'\n",
    "    else:\n",
    "        return fieldSign(index, path='./../data', dorsal_only=dorsal_roi)"
   ]
  },
  {
   "cell_type": "code",
   "execution_count": null,
   "metadata": {},
   "outputs": [],
   "source": [
    "# # Random sample for Supplementary Figure 3, 5, 6, 7, 8\n",
    "# random.seed('123')\n",
    "# random.sample(clusters['cluster_6'],9)"
   ]
  }
 ],
 "metadata": {
  "kernelspec": {
   "display_name": "VariabilityEarlyVisualCortex_updated",
   "language": "python",
   "name": "python3"
  },
  "language_info": {
   "codemirror_mode": {
    "name": "ipython",
    "version": 3
   },
   "file_extension": ".py",
   "mimetype": "text/x-python",
   "name": "python",
   "nbconvert_exporter": "python",
   "pygments_lexer": "ipython3",
   "version": "3.8.16"
  },
  "orig_nbformat": 4,
  "vscode": {
   "interpreter": {
    "hash": "296569c996860906a30dd11f428e0ced04cba75a1bf4ada307f484d6d153072d"
   }
  }
 },
 "nbformat": 4,
 "nbformat_minor": 2
}
